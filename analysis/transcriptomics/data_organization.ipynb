{
 "cells": [
  {
   "cell_type": "code",
   "execution_count": 2,
   "metadata": {},
   "outputs": [],
   "source": [
    "import pandas as pd\n",
    "# import RepSeq_merged.csv\n",
    "df = pd.read_csv('../../../../rebase/MicSearch/analysis/IBDMDB/data/RepSeq_merged.csv')\n",
    "\n",
    "id_df = df['id'].str.split('|', expand=True)\n",
    "id_df = id_df[[0,9]]\n",
    "# name columns sample and sequence\n",
    "id_df.columns = ['sample', 'sequence']\n",
    "id_df['sample'] = id_df['sample'].str.replace('{', '').str.split('_contigs').str[0]\n",
    "id_df\n",
    "\n",
    "# save to csv file\n",
    "id_df.to_csv('68_input_to_pipeline.csv', index=False)\n"
   ]
  },
  {
   "cell_type": "code",
   "execution_count": 1,
   "metadata": {},
   "outputs": [
    {
     "data": {
      "text/html": [
       "<div>\n",
       "<style scoped>\n",
       "    .dataframe tbody tr th:only-of-type {\n",
       "        vertical-align: middle;\n",
       "    }\n",
       "\n",
       "    .dataframe tbody tr th {\n",
       "        vertical-align: top;\n",
       "    }\n",
       "\n",
       "    .dataframe thead th {\n",
       "        text-align: right;\n",
       "    }\n",
       "</style>\n",
       "<table border=\"1\" class=\"dataframe\">\n",
       "  <thead>\n",
       "    <tr style=\"text-align: right;\">\n",
       "      <th></th>\n",
       "      <th>sample</th>\n",
       "      <th>sequence</th>\n",
       "    </tr>\n",
       "  </thead>\n",
       "  <tbody>\n",
       "    <tr>\n",
       "      <th>0</th>\n",
       "      <td>MSM6J2MJ</td>\n",
       "      <td>GCAGGTATAAGAGAATTAACTTTAGATGAGATAACGCTTGTCAGCG...</td>\n",
       "    </tr>\n",
       "    <tr>\n",
       "      <th>1</th>\n",
       "      <td>CSM79HJI_P</td>\n",
       "      <td>ATGGCAGGTATAAGAGAATTAACTTTAGATGAGATAACGCTTGTCA...</td>\n",
       "    </tr>\n",
       "    <tr>\n",
       "      <th>2</th>\n",
       "      <td>MSM5LLF2_P</td>\n",
       "      <td>ATGGCAGGTATAAGAGAATTAACTTTAGATGAGATAACGCTTGTCA...</td>\n",
       "    </tr>\n",
       "    <tr>\n",
       "      <th>3</th>\n",
       "      <td>MSM5LLF4</td>\n",
       "      <td>ATGGCAGGTATAAGAGAATTAACTTTAGATGAGATAACGCTTGTCA...</td>\n",
       "    </tr>\n",
       "    <tr>\n",
       "      <th>4</th>\n",
       "      <td>MSM5LLF6</td>\n",
       "      <td>ATGGCAGGTATAAGAGAATTAACTTTAGATGAGATAACGCTTGTCA...</td>\n",
       "    </tr>\n",
       "    <tr>\n",
       "      <th>...</th>\n",
       "      <td>...</td>\n",
       "      <td>...</td>\n",
       "    </tr>\n",
       "    <tr>\n",
       "      <th>1036</th>\n",
       "      <td>MSMAPC6E</td>\n",
       "      <td>ATGAAAAAATTGAAAGGAAATGCTTTGATGCAGGAACTGAATGTGA...</td>\n",
       "    </tr>\n",
       "    <tr>\n",
       "      <th>1037</th>\n",
       "      <td>MSMAPC6G</td>\n",
       "      <td>ATGAAAAAATTGAAAGGAAATGCTTTGATGCAGGAACTGAATGTGA...</td>\n",
       "    </tr>\n",
       "    <tr>\n",
       "      <th>1038</th>\n",
       "      <td>MSMB4LXY</td>\n",
       "      <td>ATGAAAAAATTGAAAGGAAATGCTTTGATGCAGGAACTGAATGTGA...</td>\n",
       "    </tr>\n",
       "    <tr>\n",
       "      <th>1039</th>\n",
       "      <td>MSMB4LYB</td>\n",
       "      <td>ATGAAAAAATTGAAAGGAAATGCTTTGATGCAGGAACTGAATGTGA...</td>\n",
       "    </tr>\n",
       "    <tr>\n",
       "      <th>1040</th>\n",
       "      <td>CSM67UEA</td>\n",
       "      <td>ATACTTATCAGTTTGAGTAAGACTGAATTACAGAACATTAATGGTG...</td>\n",
       "    </tr>\n",
       "  </tbody>\n",
       "</table>\n",
       "<p>1041 rows × 2 columns</p>\n",
       "</div>"
      ],
      "text/plain": [
       "          sample                                           sequence\n",
       "0       MSM6J2MJ  GCAGGTATAAGAGAATTAACTTTAGATGAGATAACGCTTGTCAGCG...\n",
       "1     CSM79HJI_P  ATGGCAGGTATAAGAGAATTAACTTTAGATGAGATAACGCTTGTCA...\n",
       "2     MSM5LLF2_P  ATGGCAGGTATAAGAGAATTAACTTTAGATGAGATAACGCTTGTCA...\n",
       "3       MSM5LLF4  ATGGCAGGTATAAGAGAATTAACTTTAGATGAGATAACGCTTGTCA...\n",
       "4       MSM5LLF6  ATGGCAGGTATAAGAGAATTAACTTTAGATGAGATAACGCTTGTCA...\n",
       "...          ...                                                ...\n",
       "1036    MSMAPC6E  ATGAAAAAATTGAAAGGAAATGCTTTGATGCAGGAACTGAATGTGA...\n",
       "1037    MSMAPC6G  ATGAAAAAATTGAAAGGAAATGCTTTGATGCAGGAACTGAATGTGA...\n",
       "1038    MSMB4LXY  ATGAAAAAATTGAAAGGAAATGCTTTGATGCAGGAACTGAATGTGA...\n",
       "1039    MSMB4LYB  ATGAAAAAATTGAAAGGAAATGCTTTGATGCAGGAACTGAATGTGA...\n",
       "1040    CSM67UEA  ATACTTATCAGTTTGAGTAAGACTGAATTACAGAACATTAATGGTG...\n",
       "\n",
       "[1041 rows x 2 columns]"
      ]
     },
     "execution_count": 1,
     "metadata": {},
     "output_type": "execute_result"
    }
   ],
   "source": [
    "import pandas as pd\n",
    "# import RepSeq_merged.csv\n",
    "df = pd.read_csv('../../../../rebase/MicSearch/analysis/IBDMDB/data/unprocessed_output.csv')\n",
    "\n",
    "id_df = df['id'].str.split('|', expand=True)\n",
    "id_df = id_df[[0,9]]\n",
    "# name columns sample and sequence\n",
    "id_df.columns = ['sample', 'sequence']\n",
    "id_df['sample'] = id_df['sample'].str.replace('{', '').str.split('_contigs').str[0]\n",
    "id_df\n"
   ]
  },
  {
   "cell_type": "code",
   "execution_count": 3,
   "metadata": {},
   "outputs": [],
   "source": [
    "# save to csv file\n",
    "id_df.to_csv('all_put_mics_input_to_pipeline.csv', index=False)\n"
   ]
  },
  {
   "cell_type": "code",
   "execution_count": 8,
   "metadata": {},
   "outputs": [
    {
     "data": {
      "text/plain": [
       "'ACTTAAT'"
      ]
     },
     "execution_count": 8,
     "metadata": {},
     "output_type": "execute_result"
    }
   ],
   "source": [
    "from Bio.Seq import Seq\n",
    "\n",
    "str(Seq(\"ATTAAGT\").reverse_complement())\n"
   ]
  }
 ],
 "metadata": {
  "kernelspec": {
   "display_name": "Python 3",
   "language": "python",
   "name": "python3"
  },
  "language_info": {
   "codemirror_mode": {
    "name": "ipython",
    "version": 3
   },
   "file_extension": ".py",
   "mimetype": "text/x-python",
   "name": "python",
   "nbconvert_exporter": "python",
   "pygments_lexer": "ipython3",
   "version": "3.8.10"
  }
 },
 "nbformat": 4,
 "nbformat_minor": 2
}
