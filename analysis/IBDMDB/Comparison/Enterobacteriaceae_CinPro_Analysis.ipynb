{
 "cells": [
  {
   "attachments": {},
   "cell_type": "markdown",
   "metadata": {
    "pycharm": {
     "name": "#%% md\n"
    }
   },
   "source": [
    "# Libraries"
   ]
  },
  {
   "cell_type": "code",
   "execution_count": 2,
   "metadata": {
    "pycharm": {
     "name": "#%%\n"
    }
   },
   "outputs": [
    {
     "name": "stdout",
     "output_type": "stream",
     "text": [
      "The rpy2.ipython extension is already loaded. To reload it, use:\n",
      "  %reload_ext rpy2.ipython\n"
     ]
    }
   ],
   "source": [
    "%load_ext rpy2.ipython\n"
   ]
  },
  {
   "cell_type": "code",
   "execution_count": 3,
   "metadata": {},
   "outputs": [
    {
     "name": "stdout",
     "output_type": "stream",
     "text": [
      "[1] \"R version 4.2.2 (2022-10-31)\"\n"
     ]
    }
   ],
   "source": [
    "%%R\n",
    "version$version.string\n",
    "\n",
    "# install.packages(\"tidyverse\")\n",
    "\n",
    "# if (!requireNamespace(\"BiocManager\", quietly = TRUE))\n",
    "#     install.packages(\"BiocManager\")\n",
    "\n",
    "# BiocManager::install(\"ggtree\")\n",
    "# install.packages(\"ggstance\")\n",
    "\n",
    "# install.packages(\"Cairo\")\n",
    "# install.packages(\"showtext\")\n",
    "# install.packages(\"stringr\")\n",
    "\n",
    "#install.packages(\"stringi\", type = \"source\")\n"
   ]
  },
  {
   "cell_type": "code",
   "execution_count": 3,
   "metadata": {
    "pycharm": {
     "name": "#%%\n"
    }
   },
   "outputs": [
    {
     "name": "stdout",
     "output_type": "stream",
     "text": [
      "── Attaching core tidyverse packages ──────────────────────── tidyverse 2.0.0 ──\n",
      "✔ dplyr     1.1.3     ✔ readr     2.1.4\n",
      "✔ forcats   1.0.0     ✔ stringr   1.5.0\n",
      "✔ ggplot2   3.4.4     ✔ tibble    3.2.1\n",
      "✔ lubridate 1.9.3     ✔ tidyr     1.3.0\n",
      "✔ purrr     1.0.2     \n",
      "── Conflicts ────────────────────────────────────────── tidyverse_conflicts() ──\n",
      "✖ dplyr::filter() masks stats::filter()\n",
      "✖ dplyr::lag()    masks stats::lag()\n",
      "ℹ Use the conflicted package (<http://conflicted.r-lib.org/>) to force all conflicts to become errors\n"
     ]
    },
    {
     "data": {
      "text/plain": [
       "Registered S3 methods overwritten by 'treeio':\n",
       "  method              from    \n",
       "  MRCA.phylo          tidytree\n",
       "  MRCA.treedata       tidytree\n",
       "  Nnode.treedata      tidytree\n",
       "  Ntip.treedata       tidytree\n",
       "  ancestor.phylo      tidytree\n",
       "  ancestor.treedata   tidytree\n",
       "  child.phylo         tidytree\n",
       "  child.treedata      tidytree\n",
       "  full_join.phylo     tidytree\n",
       "  full_join.treedata  tidytree\n",
       "  groupClade.phylo    tidytree\n",
       "  groupClade.treedata tidytree\n",
       "  groupOTU.phylo      tidytree\n",
       "  groupOTU.treedata   tidytree\n",
       "  is.rooted.treedata  tidytree\n",
       "  nodeid.phylo        tidytree\n",
       "  nodeid.treedata     tidytree\n",
       "  nodelab.phylo       tidytree\n",
       "  nodelab.treedata    tidytree\n",
       "  offspring.phylo     tidytree\n",
       "  offspring.treedata  tidytree\n",
       "  parent.phylo        tidytree\n",
       "  parent.treedata     tidytree\n",
       "  root.treedata       tidytree\n",
       "  rootnode.phylo      tidytree\n",
       "  sibling.phylo       tidytree\n",
       "ggtree v3.6.2 For help: https://yulab-smu.top/treedata-book/\n",
       "\n",
       "If you use the ggtree package suite in published research, please cite\n",
       "the appropriate paper(s):\n",
       "\n",
       "Guangchuang Yu, David Smith, Huachen Zhu, Yi Guan, Tommy Tsan-Yuk Lam.\n",
       "ggtree: an R package for visualization and annotation of phylogenetic\n",
       "trees with their covariates and other associated data. Methods in\n",
       "Ecology and Evolution. 2017, 8(1):28-36. doi:10.1111/2041-210X.12628\n",
       "\n",
       "LG Wang, TTY Lam, S Xu, Z Dai, L Zhou, T Feng, P Guo, CW Dunn, BR\n",
       "Jones, T Bradley, H Zhu, Y Guan, Y Jiang, G Yu. treeio: an R package\n",
       "for phylogenetic tree input and output with richly annotated and\n",
       "associated data. Molecular Biology and Evolution. 2020, 37(2):599-603.\n",
       "doi: 10.1093/molbev/msz240\n",
       "\n",
       "Guangchuang Yu.  Data Integration, Manipulation and Visualization of\n",
       "Phylogenetic Trees (1st edition). Chapman and Hall/CRC. 2022,\n",
       "doi:10.1201/9781003279242\n",
       "\n",
       "Attaching package: ‘ggtree’\n",
       "\n",
       "The following object is masked from ‘package:tidyr’:\n",
       "\n",
       "    expand\n",
       "\n",
       "\n",
       "Attaching package: ‘ggstance’\n",
       "\n",
       "The following objects are masked from ‘package:ggplot2’:\n",
       "\n",
       "    geom_errorbarh, GeomErrorbarh\n",
       "\n",
       "Loading required package: sysfonts\n",
       "Loading required package: showtextdb\n"
      ]
     },
     "metadata": {},
     "output_type": "display_data"
    }
   ],
   "source": [
    "%%R\n",
    "library(tidyverse)\n",
    "library(ggtree)\n",
    "library(ggstance)\n",
    "library(Cairo)\n",
    "library(showtext)\n",
    "library(stringr)\n"
   ]
  },
  {
   "cell_type": "code",
   "execution_count": 4,
   "metadata": {
    "pycharm": {
     "name": "#%%\n"
    }
   },
   "outputs": [
    {
     "name": "stdout",
     "output_type": "stream",
     "text": [
      "Rows: 8287 Columns: 6\n",
      "── Column specification ────────────────────────────────────────────────────────\n",
      "Delimiter: \",\"\n",
      "chr (4): accession, ncbi_organism_name, ncbi_taxonomy, gtdb_taxonomy\n",
      "lgl (2): gtdb_species_representative, ncbi_type_material\n",
      "\n",
      "ℹ Use `spec()` to retrieve the full column specification for this data.\n",
      "ℹ Specify the column types or set `show_col_types = FALSE` to quiet this message.\n",
      "# A tibble: 8,287 × 6\n",
      "   accession       ncbi_organism_name                ncbi_taxonomy gtdb_taxonomy\n",
      "   <chr>           <chr>                             <chr>         <chr>        \n",
      " 1 GCA_002294575.1 Enterobacteriaceae bacterium UBA… d__Bacteria;… d__Bacteria;…\n",
      " 2 GCA_002307955.1 Enterobacteriaceae bacterium UBA… d__Bacteria;… d__Bacteria;…\n",
      " 3 GCA_002317605.1 Enterobacteriaceae bacterium UBA… d__Bacteria;… d__Bacteria;…\n",
      " 4 GCA_002319825.1 Enterobacteriaceae bacterium UBA… d__Bacteria;… d__Bacteria;…\n",
      " 5 GCA_002333165.1 Enterobacteriaceae bacterium UBA… d__Bacteria;… d__Bacteria;…\n",
      " 6 GCA_002339625.1 Enterobacteriaceae bacterium UBA… d__Bacteria;… d__Bacteria;…\n",
      " 7 GCA_002348865.1 Enterobacteriaceae bacterium UBA… d__Bacteria;… d__Bacteria;…\n",
      " 8 GCA_002362795.1 Enterobacteriaceae bacterium UBA… d__Bacteria;… d__Bacteria;…\n",
      " 9 GCA_002363315.1 Enterobacteriaceae bacterium UBA… d__Bacteria;… d__Bacteria;…\n",
      "10 GCA_002363415.1 Enterobacteriaceae bacterium UBA… d__Bacteria;… d__Bacteria;…\n",
      "# ℹ 8,277 more rows\n",
      "# ℹ 2 more variables: gtdb_species_representative <lgl>,\n",
      "#   ncbi_type_material <lgl>\n",
      "# ℹ Use `print(n = ...)` to see more rows\n"
     ]
    }
   ],
   "source": [
    "%%R\n",
    "genome_data <- read_csv(\"data/Enterobacteriaciae_species_merged_1000.csv\")\n",
    "genome_data\n"
   ]
  },
  {
   "cell_type": "code",
   "execution_count": 5,
   "metadata": {},
   "outputs": [
    {
     "name": "stdout",
     "output_type": "stream",
     "text": [
      "Rows: 7981 Columns: 1\n",
      "── Column specification ────────────────────────────────────────────────────────\n",
      "Delimiter: \",\"\n",
      "chr (1): X1\n"
     ]
    },
    {
     "name": "stdout",
     "output_type": "stream",
     "text": [
      "\n",
      "ℹ Use `spec()` to retrieve the full column specification for this data.\n",
      "ℹ Specify the column types or set `show_col_types = FALSE` to quiet this message.\n",
      "# A tibble: 6 × 1\n",
      "  X1             \n",
      "  <chr>          \n",
      "1 GCA_000168075.1\n",
      "2 GCA_000214745.2\n",
      "3 GCA_000240805.2\n",
      "4 GCA_000250435.2\n",
      "5 GCA_000264705.1\n",
      "6 GCA_000268105.1\n"
     ]
    }
   ],
   "source": [
    "%%R\n",
    "genomes_downloaded <- read_csv(\"data/downloaded_genomes_list.txt\", col_names = FALSE)\n",
    "length(genomes_downloaded)\n",
    "head(genomes_downloaded)\n"
   ]
  },
  {
   "cell_type": "code",
   "execution_count": 6,
   "metadata": {},
   "outputs": [
    {
     "name": "stdout",
     "output_type": "stream",
     "text": [
      "[1] 7981\n"
     ]
    }
   ],
   "source": [
    "%%R\n",
    "#select genomes in the genomes_downloaded list\n",
    "genome_data <- genome_data[genome_data$accession %in% genomes_downloaded$X1,]\n",
    "length(genome_data$accession)\n"
   ]
  },
  {
   "cell_type": "code",
   "execution_count": 8,
   "metadata": {},
   "outputs": [],
   "source": [
    "%%R\n",
    "hmm_hits <- read.csv(\"data/final_output.csv\")\n",
    "# head(hmm_hits)\n"
   ]
  },
  {
   "cell_type": "code",
   "execution_count": 9,
   "metadata": {},
   "outputs": [
    {
     "name": "stdout",
     "output_type": "stream",
     "text": [
      " [1] \"GCF_013886195.1\" \"GCF_013886335.1\" \"GCA_904866245.1\" \"GCF_000354355.2\"\n",
      " [5] \"GCF_000356565.1\" \"GCF_002971585.1\" \"GCF_002972375.1\" \"GCF_002972935.1\"\n",
      " [9] \"GCF_002972995.1\" \"GCF_002310575.1\" \"GCF_001263065.1\" \"GCF_002190675.1\"\n",
      "[13] \"GCF_002475215.1\" \"GCF_002965825.1\" \"GCF_004960225.1\" \"GCF_005144925.1\"\n",
      "[17] \"GCF_005383645.1\" \"GCF_013834525.1\" \"GCF_016504085.1\" \"GCF_018442805.1\"\n"
     ]
    }
   ],
   "source": [
    "%%R\n",
    "\n",
    "# Make 'genome' column from 'input_file' column, remove text after second '_' character\n",
    "hmm_hits$genome <- gsub(\"^([^_]*_[^_]*).*\", \"\\\\1\", hmm_hits$input_file)\n",
    "\n",
    "#print\n",
    "head(hmm_hits$genome, 20)\n"
   ]
  },
  {
   "cell_type": "code",
   "execution_count": 10,
   "metadata": {},
   "outputs": [
    {
     "name": "stdout",
     "output_type": "stream",
     "text": [
      "[1] \"d__Bacteria; p__Proteobacteria; c__Gammaproteobacteria; o__Enterobacterales; f__Enterobacteriaceae; g__Escherichia; s__Escherichia fergusonii\"\n",
      "[2] \"d__Bacteria; p__Proteobacteria; c__Gammaproteobacteria; o__Enterobacterales; f__Enterobacteriaceae; g__Escherichia; s__Escherichia fergusonii\"\n",
      "[3] \"d__Bacteria; p__Proteobacteria; c__Gammaproteobacteria; o__Enterobacterales; f__Enterobacteriaceae; g__Escherichia; s__Escherichia marmotae\"  \n",
      "[4] \"d__Bacteria; p__Proteobacteria; c__Gammaproteobacteria; o__Enterobacterales; f__Enterobacteriaceae; g__Escherichia; s__Escherichia coli\"      \n",
      "[5] \"d__Bacteria; p__Proteobacteria; c__Gammaproteobacteria; o__Enterobacterales; f__Enterobacteriaceae; g__Escherichia; s__Escherichia coli\"      \n",
      "[6] \"d__Bacteria; p__Proteobacteria; c__Gammaproteobacteria; o__Enterobacterales; f__Enterobacteriaceae; g__Escherichia; s__Escherichia coli\"      \n"
     ]
    }
   ],
   "source": [
    "%%R\n",
    "\n",
    "# Make new blank column in hmm_hits dataframe\n",
    "hmm_hits$gtdb_taxonomy <- NA\n",
    "\n",
    "# Match the first 13 characters of the contig column between hmm_hits and all_best_hits\n",
    "for (i in 1:nrow(hmm_hits)) {\n",
    "    hmm_hits$gtdb_taxonomy[i] <- genome_data$gtdb_taxonomy[which(genome_data$accession == hmm_hits$genome[i])]\n",
    "}\n",
    "\n",
    "# Print the updated dataframe1\n",
    "head(hmm_hits$gtdb_taxonomy)\n"
   ]
  },
  {
   "cell_type": "code",
   "execution_count": 11,
   "metadata": {
    "pycharm": {
     "name": "#%%\n"
    }
   },
   "outputs": [
    {
     "name": "stdout",
     "output_type": "stream",
     "text": [
      " [1] \"Citrobacter_werkmanii\"      \"Citrobacter_youngae\"       \n",
      " [3] \"Citrobacter_braakii\"        \"Citrobacter_koseri\"        \n",
      " [5] \"Citrobacter_amalonaticus\"   \"Salmonella_bongori\"        \n",
      " [7] \"Salmonella_enterica\"        \"Escherichia_fergusonii\"    \n",
      " [9] \"Escherichia_albertii\"       \"Escherichia_marmotae\"      \n",
      "[11] \"Escherichia_coli\"           \"Klebsiella_quasipneumoniae\"\n",
      "[13] \"Klebsiella_pneumoniae\"      \"Klebsiella_variicola\"      \n",
      "[15] \"Klebsiella_aerogenes\"       \"Klebsiella_oxytoca\"        \n",
      "[17] \"Klebsiella_michiganensis\"   \"Raoultella_ornithinolytica\"\n",
      "[19] \"Raoultella_planticola\"      \"Pluralibacter_gergoviae\"   \n",
      "[21] \"Enterobacter_cancerogenus\"  \"Enterobacter_asburiae\"     \n",
      "[23] \"Lelliottia_nimipressuralis\" \"Enterobacter_kobei\"        \n",
      "[25] \"Enterobacter_cloacae\"       \"Enterobacter_ludwigii\"     \n",
      "[27] \"Enterobacter_mori\"          \"Enterobacter_hormaechei\"   \n",
      "[29] \"Lelliottia_amnigena\"        \"Leclercia_adecarboxylata\"  \n",
      "[31] \"Kosakonia_cowanii\"          \"Kosakonia_sacchari\"        \n",
      "[33] \"Kosakonia_radicincitans\"    \"Kosakonia_oryzae\"          \n",
      "[35] \"Atlantibacter_hermannii\"    \"Cronobacter_malonaticus\"   \n",
      "[37] \"Cronobacter_sakazakii\"      \"Cronobacter_universalis\"   \n",
      "[39] \"Cronobacter_condimenti\"     \"Cronobacter_dublinensis\"   \n",
      "[41] \"Cronobacter_muytjensii\"    \n"
     ]
    }
   ],
   "source": [
    "%%R\n",
    "Enterobacteriaciae_species_tree <- read.tree(\"data/Enterobacteriaciae_species.tree\")\n",
    "Enterobacteriaciae_species_tree$tip.label"
   ]
  },
  {
   "cell_type": "code",
   "execution_count": 12,
   "metadata": {
    "pycharm": {
     "name": "#%%\n"
    }
   },
   "outputs": [
    {
     "name": "stdout",
     "output_type": "stream",
     "text": [
      "[1] 7981\n"
     ]
    }
   ],
   "source": [
    "%%R\n",
    "samples <- read.csv(\"data/Enterobacteriaciae_accessions.csv\", header = TRUE)\n",
    "samples <- samples[samples$accession %in% genomes_downloaded$X1,]\n",
    "length(samples$accession)\n",
    "#head(samples)"
   ]
  },
  {
   "cell_type": "code",
   "execution_count": 13,
   "metadata": {
    "pycharm": {
     "name": "#%%\n"
    }
   },
   "outputs": [
    {
     "name": "stdout",
     "output_type": "stream",
     "text": [
      "                                   f8   n\n",
      "1                Actinomyces marmotae   5\n",
      "2           Anaerotruncus colihominis   1\n",
      "3             Atlantibacter hermannii  28\n",
      "4              Brachyspira pilosicoli   1\n",
      "5                Campylobacter_D coli  33\n",
      "6                 Citrobacter braakii 119\n",
      "7               Citrobacter werkmanii  65\n",
      "8                 Citrobacter youngae  40\n",
      "9          Citrobacter_A amalonaticus  57\n",
      "10       Citrobacter_A amalonaticus_C   1\n",
      "11       Citrobacter_A amalonaticus_E   2\n",
      "12               Citrobacter_B koseri 108\n",
      "13       Citrobacter_C amalonaticus_A   4\n",
      "14             Cronobacter condimenti   3\n",
      "15            Cronobacter dublinensis  42\n",
      "16            Cronobacter malonaticus  62\n",
      "17             Cronobacter muytjensii   8\n",
      "18              Cronobacter sakazakii 436\n",
      "19            Cronobacter universalis   4\n",
      "20              Enterobacter asburiae  32\n",
      "21            Enterobacter asburiae_A   6\n",
      "22            Enterobacter asburiae_B  68\n",
      "23            Enterobacter asburiae_C   1\n",
      "24          Enterobacter cancerogenus  16\n",
      "25               Enterobacter cloacae 126\n",
      "26             Enterobacter cloacae_I  11\n",
      "27             Enterobacter cloacae_L   5\n",
      "28             Enterobacter cloacae_M  84\n",
      "29             Enterobacter cloacae_N   4\n",
      "30             Enterobacter cloacae_O   6\n",
      "31             Enterobacter cloacae_P   2\n",
      "32             Enterobacter cloacae_Q   2\n",
      "33            Enterobacter hormaechei  12\n",
      "34          Enterobacter hormaechei_A 965\n",
      "35                 Enterobacter kobei 141\n",
      "36              Enterobacter ludwigii  85\n",
      "37                  Enterobacter mori  23\n",
      "38               Escherichia albertii 106\n",
      "39                   Escherichia coli 936\n",
      "40             Escherichia fergusonii  77\n",
      "41               Escherichia marmotae  82\n",
      "42            Helicobacter_C marmotae   2\n",
      "43               Klebsiella aerogenes 338\n",
      "44           Klebsiella michiganensis 268\n",
      "45         Klebsiella ornithinolytica  91\n",
      "46                 Klebsiella oxytoca 172\n",
      "47               Klebsiella oxytoca_C   1\n",
      "48              Klebsiella planticola  43\n",
      "49              Klebsiella pneumoniae 975\n",
      "50         Klebsiella quasipneumoniae 622\n",
      "51               Klebsiella variicola 517\n",
      "52                  Kosakonia cowanii  18\n",
      "53                   Kosakonia oryzae   3\n",
      "54            Kosakonia radicincitans  13\n",
      "55                 Kosakonia sacchari   5\n",
      "56               Kosakonia sacchari_B   2\n",
      "57           Leclercia adecarboxylata  78\n",
      "58         Leclercia adecarboxylata_A   2\n",
      "59         Leclercia adecarboxylata_B   2\n",
      "60         Leclercia adecarboxylata_C  13\n",
      "61                Lelliottia amnigena  15\n",
      "62              Lelliottia amnigena_A   1\n",
      "63         Lelliottia nimipressuralis   9\n",
      "64             Massilicoli timonensis   1\n",
      "65 Paenarthrobacter nitroguajacolicus   1\n",
      "66            Pluralibacter gergoviae  22\n",
      "67                 Salmonella bongori  32\n",
      "68                Salmonella enterica 915\n",
      "69             Streptococcus marmotae   1\n",
      "70      Terrisporobacter glycolicus_A   3\n",
      "71            Yersinia enterocolitica   6\n"
     ]
    },
    {
     "data": {
      "text/plain": [
       "In addition: Warning message:\n",
       "Expected 8 pieces. Missing pieces filled with `NA` in 1 rows [4957]. \n"
      ]
     },
     "metadata": {},
     "output_type": "display_data"
    }
   ],
   "source": [
    "%%R\n",
    "samples %>%\n",
    "\tseparate(gtdb_taxonomy, c('f1','f2','f3','f4','f5','f6','f7','f8'), sep = \"__\") %>%\n",
    "\tcount(f8) %>%\n",
    "\t#remove NA\n",
    "\tna.omit()"
   ]
  },
  {
   "cell_type": "code",
   "execution_count": 14,
   "metadata": {
    "pycharm": {
     "name": "#%%\n"
    }
   },
   "outputs": [
    {
     "data": {
      "text/plain": [
       "In addition: Warning message:\n",
       "Expected 8 pieces. Missing pieces filled with `NA` in 1 rows [4957]. \n"
      ]
     },
     "metadata": {},
     "output_type": "display_data"
    }
   ],
   "source": [
    "%%R -o speciesAssemblies\n",
    "\n",
    "speciesAssemblies <- samples %>%\n",
    "separate(gtdb_taxonomy, c('f1','f2','f3','f4','f5','f6','f7','f8'), sep = \"__\") %>%\n",
    "    mutate(f7 = gsub('_.','',f7)) %>%\n",
    "    mutate(f7 = gsub('; s','',f7)) %>%\n",
    "    mutate(f8 = gsub('_.','',f8)) %>%\n",
    "#\tfilter(f4 == \"Enterobacteriaceae_gtdb\") %>%\n",
    "#\tfilter(f5 != \"other_families\") %>%\n",
    "\tcount(f7,f8) %>%\n",
    "\trename(clade = f7, species = f8, assemblies = n)"
   ]
  },
  {
   "cell_type": "code",
   "execution_count": 15,
   "metadata": {
    "pycharm": {
     "name": "#%%\n"
    }
   },
   "outputs": [
    {
     "name": "stdout",
     "output_type": "stream",
     "text": [
      " [1] \"Escherichia fergusonii\" \"Escherichia fergusonii\" \"Escherichia marmotae\"  \n",
      " [4] \"Escherichia coli\"       \"Escherichia coli\"       \"Escherichia coli\"      \n",
      " [7] \"Escherichia coli\"       \"Escherichia coli\"       \"Escherichia coli\"      \n",
      "[10] \"Escherichia coli\"       \"Escherichia coli\"       \"Escherichia coli\"      \n",
      "[13] \"Escherichia coli\"       \"Escherichia marmotae\"   \"Escherichia coli\"      \n",
      "[16] \"Salmonella enterica\"    \"Escherichia coli\"       \"Escherichia fergusonii\"\n",
      "[19] \"Citrobacter koseri\"     \"Escherichia coli\"      \n"
     ]
    },
    {
     "data": {
      "text/plain": [
       "In addition: Warning message:\n",
       "Expected 8 pieces. Missing pieces filled with `NA` in 1 rows [2462]. \n"
      ]
     },
     "metadata": {},
     "output_type": "display_data"
    }
   ],
   "source": [
    "%%R\n",
    "Enterobacteriaceae_best_hits <- hmm_hits %>%\n",
    "    separate(gtdb_taxonomy, c('f1','f2','f3','f4','f5','f6','f7','f8'), sep = \"__\") %>%\n",
    "    mutate(f7 = gsub('_.','',f7)) %>%\n",
    "    mutate(f7 = gsub('; s','',f7)) %>%\n",
    "    mutate(f8 = gsub('_.','',f8)) %>%\n",
    "    rename(clade = f7, species = f8)\n",
    "\n",
    "head(Enterobacteriaceae_best_hits$species, 20)"
   ]
  },
  {
   "cell_type": "code",
   "execution_count": 16,
   "metadata": {},
   "outputs": [
    {
     "name": "stdout",
     "output_type": "stream",
     "text": [
      "                      species n_microcins\n",
      "1    Citrobacter amalonaticus           9\n",
      "2         Citrobacter braakii           6\n",
      "3          Citrobacter koseri           2\n",
      "4       Citrobacter werkmanii           3\n",
      "5         Citrobacter youngae           2\n",
      "6     Cronobacter dublinensis           6\n",
      "7     Cronobacter malonaticus           4\n",
      "8      Cronobacter muytjensii           2\n",
      "9       Enterobacter asburiae          40\n",
      "10  Enterobacter cancerogenus          29\n",
      "11       Enterobacter cloacae          68\n",
      "12    Enterobacter hormaechei         516\n",
      "13         Enterobacter kobei           1"
     ]
    },
    {
     "name": "stdout",
     "output_type": "stream",
     "text": [
      "\n",
      "14      Enterobacter ludwigii          61\n",
      "15          Enterobacter mori           2\n",
      "16       Escherichia albertii           4\n",
      "17           Escherichia coli         312\n",
      "18     Escherichia fergusonii           6\n",
      "19       Escherichia marmotae           2\n",
      "20       Klebsiella aerogenes        1846\n",
      "21   Klebsiella michiganensis         521\n",
      "22 Klebsiella ornithinolytica         125\n",
      "23         Klebsiella oxytoca         566\n",
      "24      Klebsiella planticola          41\n",
      "25      Klebsiella pneumoniae        3182\n",
      "26 Klebsiella quasipneumoniae        1914\n",
      "27       Klebsiella variicola        1800\n",
      "28          Kosakonia cowanii           1\n",
      "29           Kosakonia oryzae          26\n",
      "30    Kosakonia radicincitans          91\n",
      "31         Kosakonia sacchari          17\n",
      "32   Leclercia adecarboxylata          63\n",
      "33    Pluralibacter gergoviae          45\n",
      "34        Salmonella enterica         110\n",
      "35                       <NA>           1\n"
     ]
    }
   ],
   "source": [
    "%%R\n",
    "Enterobacteriaceae_best_hits %>%\n",
    "    count(species, name = \"n_microcins\", )\n"
   ]
  },
  {
   "cell_type": "code",
   "execution_count": 18,
   "metadata": {
    "pycharm": {
     "name": "#%%\n"
    }
   },
   "outputs": [
    {
     "name": "stdout",
     "output_type": "stream",
     "text": [
      "Joining with `by = join_by(species)`\n",
      "                   species n_microcins       clade assemblies\n",
      "1 Citrobacter amalonaticus           9 Citrobacter         64\n",
      "2      Citrobacter braakii           6 Citrobacter        119\n",
      "3       Citrobacter koseri           2 Citrobacter        108\n",
      "4    Citrobacter werkmanii           3 Citrobacter         65\n",
      "5      Citrobacter youngae           2 Citrobacter         40\n",
      "6  Cronobacter dublinensis           3 Cronobacter         42\n",
      "    percent_microcin\n",
      "1           0.140625\n",
      "2 0.0504201680672269\n",
      "3 0.0185185185185185\n",
      "4 0.0461538461538462\n",
      "5               0.05\n",
      "6 0.0714285714285714\n"
     ]
    }
   ],
   "source": [
    "%%R\n",
    "species_microcins <- Enterobacteriaceae_best_hits %>%\n",
    "\tcount(species, genome) %>% \n",
    "\tcount(species, name = \"n_microcins\") %>%\n",
    "\tfull_join(speciesAssemblies) %>%\n",
    "\tmutate(percent_microcin = n_microcins / assemblies) %>%\n",
    "    mutate(percent_microcin = gsub(\"NA\", \"0\", percent_microcin))\n",
    "\n",
    "head(species_microcins)"
   ]
  },
  {
   "cell_type": "code",
   "execution_count": 19,
   "metadata": {},
   "outputs": [],
   "source": [
    "%%R\n",
    "species_microcins <- species_microcins %>%\n",
    "    mutate(species = gsub('Klebsiella planticola','Raoultella planticola',species))%>%\n",
    "    mutate(species = gsub('Klebsiella ornithinolytica','Raoultella ornithinolytica',species))\n"
   ]
  },
  {
   "cell_type": "code",
   "execution_count": 20,
   "metadata": {},
   "outputs": [
    {
     "name": "stdout",
     "output_type": "stream",
     "text": [
      " [1] \"Citrobacter werkmanii (65)\"       \"Citrobacter youngae (40)\"        \n",
      " [3] \"Citrobacter braakii (119)\"        \"Citrobacter koseri (108)\"        \n",
      " [5] \"Citrobacter amalonaticus (64)\"    \"Salmonella bongori (32)\"         \n",
      " [7] \"Salmonella enterica (915)\"        \"Escherichia fergusonii (77)\"     \n",
      " [9] \"Escherichia albertii (106)\"       \"Escherichia marmotae (82)\"       \n",
      "[11] \"Escherichia coli (936)\"           \"Klebsiella quasipneumoniae (622)\"\n",
      "[13] \"Klebsiella pneumoniae (975)\"      \"Klebsiella variicola (517)\"      \n",
      "[15] \"Klebsiella aerogenes (338)\"       \"Klebsiella oxytoca (173)\"        \n",
      "[17] \"Klebsiella michiganensis (268)\"   \"Raoultella ornithinolytica (91)\" \n",
      "[19] \"Raoultella planticola (43)\"       \"Pluralibacter gergoviae (22)\"    \n",
      "[21] \"Enterobacter cancerogenus (16)\"   \"Enterobacter asburiae (107)\"     \n",
      "[23] \"Lelliottia nimipressuralis (9)\"   \"Enterobacter kobei (141)\"        \n",
      "[25] \"Enterobacter cloacae (240)\"       \"Enterobacter ludwigii (85)\"      \n",
      "[27] \"Enterobacter mori (23)\"           \"Enterobacter hormaechei (977)\"   \n",
      "[29] \"Lelliottia amnigena (16)\"         \"Leclercia adecarboxylata (95)\"   \n",
      "[31] \"Kosakonia cowanii (18)\"           \"Kosakonia sacchari (7)\"          \n",
      "[33] \"Kosakonia radicincitans (13)\"     \"Kosakonia oryzae (3)\"            \n",
      "[35] \"Atlantibacter hermannii (28)\"     \"Cronobacter malonaticus (62)\"    \n",
      "[37] \"Cronobacter sakazakii (436)\"      \"Cronobacter universalis (4)\"     \n",
      "[39] \"Cronobacter condimenti (3)\"       \"Cronobacter dublinensis (42)\"    \n",
      "[41] \"Cronobacter muytjensii (8)\"      \n"
     ]
    }
   ],
   "source": [
    "%%R\n",
    "Enterobacteriaciae_species_tree$tip.label <- sub(\"_\", \" \", Enterobacteriaciae_species_tree$tip.label)\n",
    "\n",
    "Enterobacteriaciae_species_tree$tip.label <- ifelse(\n",
    "  Enterobacteriaciae_species_tree$tip.label %in% species_microcins$species,\n",
    "  paste0(\n",
    "    Enterobacteriaciae_species_tree$tip.label,\n",
    "    \" (\",\n",
    "    species_microcins$assemblies[match(Enterobacteriaciae_species_tree$tip.label, species_microcins$species)],\n",
    "    \")\"\n",
    "  ),\n",
    "  Enterobacteriaciae_species_tree$tip.label\n",
    ")\n",
    "\n",
    "Enterobacteriaciae_species_tree$tip.label\n"
   ]
  },
  {
   "cell_type": "code",
   "execution_count": 21,
   "metadata": {
    "pycharm": {
     "name": "#%%\n"
    }
   },
   "outputs": [],
   "source": [
    "%%R\n",
    "species_microcins$species <- gsub(\"_\",\" \",species_microcins$species)\n",
    "par(family  = \"Arial\")\n",
    "# plot(Enterobacteriaciae_species_tree)"
   ]
  },
  {
   "cell_type": "code",
   "execution_count": 22,
   "metadata": {
    "pycharm": {
     "name": "#%%\n"
    }
   },
   "outputs": [],
   "source": [
    "%%R -w 600\n",
    "species_tree_plot <- ggtree(Enterobacteriaciae_species_tree) +\n",
    "\tgeom_tiplab(as_ylab=FALSE, fontface=3, size=3)\n",
    "showtext_auto()\n",
    "# species_tree_plot"
   ]
  },
  {
   "cell_type": "code",
   "execution_count": 23,
   "metadata": {
    "pycharm": {
     "name": "#%%\n"
    }
   },
   "outputs": [],
   "source": [
    "%%R\n",
    "species_microcins$Clade <- factor(species_microcins$clade, levels = c(\"Escherichia\",\"Klebsiella\",\"Enterobacter\",\"Kosakonia\",\"Cronobacter\"))\n"
   ]
  },
  {
   "cell_type": "code",
   "execution_count": 24,
   "metadata": {
    "pycharm": {
     "name": "#%%\n"
    }
   },
   "outputs": [],
   "source": [
    "%%R\n",
    "species_microcins %>%\n",
    "\tfilter(!(species %in% Enterobacteriaciae_species_tree$tip.label))\n",
    "\n",
    "#add assemblies to species in species_microcins\n",
    "species_microcins$species <- paste0(species_microcins$species, \" (\", species_microcins$assemblies, \")\")\n",
    "\t\n",
    "#first word before space from species into clade\n",
    "species_microcins$Clade <- gsub(\" .*\",\"\",species_microcins$species)\n"
   ]
  },
  {
   "cell_type": "code",
   "execution_count": 25,
   "metadata": {},
   "outputs": [
    {
     "name": "stdout",
     "output_type": "stream",
     "text": [
      "                                  species n_microcins            clade\n",
      "1           Citrobacter amalonaticus (64)           9      Citrobacter\n",
      "2               Citrobacter braakii (119)           6      Citrobacter\n",
      "3                Citrobacter koseri (108)           2      Citrobacter\n",
      "4              Citrobacter werkmanii (65)           3      Citrobacter\n",
      "5                Citrobacter youngae (40)           2      Citrobacter\n",
      "6            Cronobacter dublinensis (42)           3      Cronobacter\n",
      "7            Cronobacter malonaticus (62)           2      Cronobacter\n",
      "8              Cronobacter muytjensii (8)           1      Cronobacter\n",
      "9             Enterobacter asburiae (107)          40     Enterobacter\n",
      "10         Enterobacter cancerogenus (16)          14     Enterobacter\n",
      "11             Enterobacter cloacae (240)          66     Enterobacter\n",
      "12          Enterobacter hormaechei (977)         511     Enterobacter\n",
      "13               Enterobacter kobei (141)           1     Enterobacter\n",
      "14             Enterobacter ludwigii (85)          51     Enterobacter\n",
      "15                 Enterobacter mori (23)           1     Enterobacter\n",
      "16             Escherichia albertii (106)           3      Escherichia\n",
      "17                 Escherichia coli (936)         164      Escherichia\n",
      "18            Escherichia fergusonii (77)           4      Escherichia\n",
      "19              Escherichia marmotae (82)           2      Escherichia\n",
      "20             Klebsiella aerogenes (338)         338       Klebsiella\n",
      "21         Klebsiella michiganensis (268)         268       Klebsiella\n",
      "22        Raoultella ornithinolytica (91)          83       Klebsiella\n",
      "23               Klebsiella oxytoca (173)         173       Klebsiella\n",
      "24             Raoultella planticola (43)          41       Klebsiella\n",
      "25            Klebsiella pneumoniae (975)         975       Klebsiella\n",
      "26       Klebsiella quasipneumoniae (622)         622       Klebsiella\n",
      "27             Klebsiella variicola (517)         517       Klebsiella\n",
      "28                 Kosakonia cowanii (18)           1        Kosakonia\n",
      "29                   Kosakonia oryzae (3)           3        Kosakonia\n",
      "30           Kosakonia radicincitans (13)          13        Kosakonia\n",
      "31                 Kosakonia sacchari (7)           2        Kosakonia\n",
      "32          Leclercia adecarboxylata (95)          19        Leclercia\n",
      "33           Pluralibacter gergoviae (22)          22    Pluralibacter\n",
      "34              Salmonella enterica (915)          57       Salmonella\n",
      "35                                 NA (1)           1             <NA>\n",
      "36               Actinomyces marmotae (5)          NA      Actinomyces\n",
      "37          Anaerotruncus colihominis (1)          NA    Anaerotruncus\n",
      "38           Atlantibacter hermannii (28)          NA    Atlantibacter\n",
      "39             Brachyspira pilosicoli (1)          NA      Brachyspira\n",
      "40                Campylobacter coli (33)          NA    Campylobacter\n",
      "41             Cronobacter condimenti (3)          NA      Cronobacter\n",
      "42            Cronobacter sakazakii (436)          NA      Cronobacter\n",
      "43            Cronobacter universalis (4)          NA      Cronobacter\n",
      "44              Helicobacter marmotae (2)          NA     Helicobacter\n",
      "45               Lelliottia amnigena (16)          NA       Lelliottia\n",
      "46         Lelliottia nimipressuralis (9)          NA       Lelliottia\n",
      "47             Massilicoli timonensis (1)          NA      Massilicoli\n",
      "48 Paenarthrobacter nitroguajacolicus (1)          NA Paenarthrobacter\n",
      "49                Salmonella bongori (32)          NA       Salmonella\n",
      "50             Streptococcus marmotae (1)          NA    Streptococcus\n",
      "51        Terrisporobacter glycolicus (3)          NA Terrisporobacter\n",
      "52            Yersinia enterocolitica (6)          NA         Yersinia\n",
      "   assemblies    percent_microcin            Clade\n",
      "1          64            0.140625      Citrobacter\n",
      "2         119  0.0504201680672269      Citrobacter\n",
      "3         108  0.0185185185185185      Citrobacter\n",
      "4          65  0.0461538461538462      Citrobacter\n",
      "5          40                0.05      Citrobacter\n",
      "6          42  0.0714285714285714      Cronobacter\n",
      "7          62   0.032258064516129      Cronobacter\n",
      "8           8               0.125      Cronobacter\n",
      "9         107   0.373831775700935     Enterobacter\n",
      "10         16               0.875     Enterobacter\n",
      "11        240               0.275     Enterobacter\n",
      "12        977   0.523029682702149     Enterobacter\n",
      "13        141 0.00709219858156028     Enterobacter\n",
      "14         85                 0.6     Enterobacter\n",
      "15         23  0.0434782608695652     Enterobacter\n",
      "16        106  0.0283018867924528      Escherichia\n",
      "17        936   0.175213675213675      Escherichia\n",
      "18         77   0.051948051948052      Escherichia\n",
      "19         82   0.024390243902439      Escherichia\n",
      "20        338                   1       Klebsiella\n",
      "21        268                   1       Klebsiella\n",
      "22         91   0.912087912087912       Raoultella\n",
      "23        173                   1       Klebsiella\n",
      "24         43   0.953488372093023       Raoultella\n",
      "25        975                   1       Klebsiella\n",
      "26        622                   1       Klebsiella\n",
      "27        517                   1       Klebsiella\n",
      "28         18  0.0555555555555556        Kosakonia\n",
      "29          3                   1        Kosakonia\n",
      "30         13                   1        Kosakonia\n",
      "31          7   0.285714285714286        Kosakonia\n",
      "32         95                 0.2        Leclercia\n",
      "33         22                   1    Pluralibacter\n",
      "34        915  0.0622950819672131       Salmonella\n",
      "35          1                   1               NA\n",
      "36          5                <NA>      Actinomyces\n",
      "37          1                <NA>    Anaerotruncus\n",
      "38         28                <NA>    Atlantibacter\n",
      "39          1                <NA>      Brachyspira\n",
      "40         33                <NA>    Campylobacter\n",
      "41          3                <NA>      Cronobacter\n",
      "42        436                <NA>      Cronobacter\n",
      "43          4                <NA>      Cronobacter\n",
      "44          2                <NA>     Helicobacter\n",
      "45         16                <NA>       Lelliottia\n",
      "46          9                <NA>       Lelliottia\n",
      "47          1                <NA>      Massilicoli\n",
      "48          1                <NA> Paenarthrobacter\n",
      "49         32                <NA>       Salmonella\n",
      "50          1                <NA>    Streptococcus\n",
      "51          3                <NA> Terrisporobacter\n",
      "52          6                <NA>         Yersinia\n"
     ]
    }
   ],
   "source": [
    "%%R\n",
    "species_microcins"
   ]
  },
  {
   "cell_type": "code",
   "execution_count": 26,
   "metadata": {
    "pycharm": {
     "name": "#%%\n"
    }
   },
   "outputs": [
    {
     "name": "stdout",
     "output_type": "stream",
     "text": [
      "[1] 7981\n"
     ]
    }
   ],
   "source": [
    "%%R\n",
    "species_microcins_hmmer <- species_microcins %>%\n",
    "\tmutate(percent_microcin = n_microcins / assemblies) %>%\n",
    "    mutate(Clade = gsub('Citrobacter','Escherichia',Clade)) %>%\n",
    "    mutate(Clade = gsub('Salmonella','Escherichia',Clade)) %>%\n",
    "    mutate(Clade = gsub('Raoultella','Klebsiella',Clade)) %>%\n",
    "    mutate(Clade = gsub('Leclercia','Enterobacter',Clade)) %>%\n",
    "    mutate(Clade = gsub('Lelliottia','Enterobacter',Clade)) %>%\n",
    "    mutate(Clade = gsub('Atlantibacter','Cronobacter',Clade)) %>%\n",
    "    mutate(Clade = gsub('Pluralibacter','Klebsiella',Clade))\n",
    "\n",
    "species_microcins_hmmer$n_microcins[is.na(species_microcins_hmmer$n_microcins)] <- 0\n",
    "species_microcins_hmmer$percent_microcin[is.na(species_microcins_hmmer$percent_microcin)] <- 0\n",
    "\n",
    "#count all assemblies, join all\n",
    "sum(species_microcins_hmmer$assemblies)"
   ]
  },
  {
   "cell_type": "code",
   "execution_count": 27,
   "metadata": {
    "pycharm": {
     "name": "#%%\n"
    }
   },
   "outputs": [],
   "source": [
    "%%R\n",
    "species_microcins_hmmer$Clade <- factor(species_microcins_hmmer$Clade, levels = c(\"Escherichia\",\"Klebsiella\",\"Enterobacter\",\"Kosakonia\",\"Cronobacter\"))\n"
   ]
  },
  {
   "cell_type": "code",
   "execution_count": 28,
   "metadata": {},
   "outputs": [
    {
     "name": "stdout",
     "output_type": "stream",
     "text": [
      " [1] 0.140625000 0.050420168 0.018518519 0.046153846 0.050000000 0.071428571\n",
      " [7] 0.032258065 0.125000000 0.373831776 0.875000000 0.275000000 0.523029683\n",
      "[13] 0.007092199 0.600000000 0.043478261 0.028301887 0.175213675 0.051948052\n",
      "[19] 0.024390244 1.000000000 1.000000000 0.912087912 1.000000000 0.953488372\n",
      "[25] 1.000000000 1.000000000 1.000000000 0.055555556 1.000000000 1.000000000\n",
      "[31] 0.285714286 0.200000000 1.000000000 0.062295082 1.000000000 0.000000000\n",
      "[37] 0.000000000 0.000000000 0.000000000 0.000000000 0.000000000 0.000000000\n",
      "[43] 0.000000000 0.000000000 0.000000000 0.000000000 0.000000000 0.000000000\n",
      "[49] 0.000000000 0.000000000 0.000000000 0.000000000\n"
     ]
    }
   ],
   "source": [
    "%%R\n",
    "species_microcins_hmmer$percent_microcin\n",
    "\n",
    "# save species_microcins_hmmer as micsearch_plot_data.csv\n",
    "# write.csv(species_microcins_hmmer, \"data/micsearch_plot_data.csv\", row.names = FALSE)"
   ]
  },
  {
   "cell_type": "code",
   "execution_count": 30,
   "metadata": {
    "pycharm": {
     "name": "#%%\n"
    }
   },
   "outputs": [
    {
     "name": "stdout",
     "output_type": "stream",
     "text": [
      "ℹ invalid tbl_tree object. Missing column: parent,node.\n",
      "ℹ invalid tbl_tree object. Missing column: parent,node.\n"
     ]
    },
    {
     "name": "stdout",
     "output_type": "stream",
     "text": [
      "Saving 6.94 x 6.67 in image\n"
     ]
    }
   ],
   "source": [
    "%%R -w 500\n",
    "\n",
    "species_tree_microcin_plot <- facet_plot(\n",
    "    species_tree_plot +\n",
    "        xlim(0, 100),\n",
    "        panel = \"percent microcin\",\n",
    "        data = species_microcins_hmmer,\n",
    "        geom = geom_barh,\n",
    "        mapping = aes(x = percent_microcin*100, fill = Clade),\n",
    "        stat=\"identity\"\n",
    "    ) +\n",
    "    scale_fill_manual(values=c(\n",
    "        \"#7397c7ff\", \n",
    "        \"#8fc960ff\", \n",
    "        \"#dfbf5dff\",\n",
    "        \"#cf6e6eff\",\n",
    "        \"#a674cbff\")) +\n",
    "    theme_tree2(\n",
    "        plot.margin = margin(0,0,0,0),\n",
    "        strip.background = element_blank(),\n",
    "        strip.text.x = element_blank(),\n",
    "        #text = element_text(size = 14)\n",
    "        legend.title = element_text(),\n",
    "        legend.text = element_text(face = 'italic')\n",
    "        ) +\n",
    "    xlab(\"Percent assemblies with microcins\")\n",
    "\n",
    "species_tree_microcin_plot\n",
    "\n",
    "filename = paste(\"plots/fullmicrocinHMM_newsearch.svg\")\n",
    "ggsave(filename, bg = 'transparent', dpi=300)\n"
   ]
  }
 ],
 "metadata": {
  "interpreter": {
   "hash": "184da163bdcbc68ba00985bd6e7412525ff7507797be2878afd169be169c48f1"
  },
  "kernelspec": {
   "display_name": "Python 3 (ipykernel)",
   "language": "python",
   "name": "python3"
  },
  "language_info": {
   "codemirror_mode": {
    "name": "ipython",
    "version": 3
   },
   "file_extension": ".py",
   "mimetype": "text/x-python",
   "name": "python",
   "nbconvert_exporter": "python",
   "pygments_lexer": "ipython3",
   "version": "3.9.18"
  }
 },
 "nbformat": 4,
 "nbformat_minor": 2
}
