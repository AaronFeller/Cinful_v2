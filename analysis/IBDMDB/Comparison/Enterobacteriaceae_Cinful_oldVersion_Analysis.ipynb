{
 "cells": [
  {
   "attachments": {},
   "cell_type": "markdown",
   "metadata": {
    "pycharm": {
     "name": "#%% md\n"
    }
   },
   "source": [
    "# Libraries"
   ]
  },
  {
   "cell_type": "code",
   "execution_count": 1,
   "metadata": {
    "pycharm": {
     "name": "#%%\n"
    }
   },
   "outputs": [],
   "source": [
    "%load_ext rpy2.ipython\n"
   ]
  },
  {
   "cell_type": "code",
   "execution_count": 2,
   "metadata": {
    "pycharm": {
     "name": "#%%\n"
    }
   },
   "outputs": [
    {
     "name": "stdout",
     "output_type": "stream",
     "text": [
      "── Attaching core tidyverse packages ──────────────────────── tidyverse 2.0.0 ──\n",
      "✔ dplyr     1.1.3     ✔ readr     2.1.4\n",
      "✔ forcats   1.0.0     ✔ stringr   1.5.0\n",
      "✔ ggplot2   3.4.4     ✔ tibble    3.2.1\n",
      "✔ lubridate 1.9.3     ✔ tidyr     1.3.0\n",
      "✔ purrr     1.0.2     \n",
      "── Conflicts ────────────────────────────────────────── tidyverse_conflicts() ──\n",
      "✖ dplyr::filter() masks stats::filter()\n",
      "✖ dplyr::lag()    masks stats::lag()\n",
      "ℹ Use the conflicted package (<http://conflicted.r-lib.org/>) to force all conflicts to become errors\n"
     ]
    },
    {
     "data": {
      "text/plain": [
       "Registered S3 methods overwritten by 'treeio':\n",
       "  method              from    \n",
       "  MRCA.phylo          tidytree\n",
       "  MRCA.treedata       tidytree\n",
       "  Nnode.treedata      tidytree\n",
       "  Ntip.treedata       tidytree\n",
       "  ancestor.phylo      tidytree\n",
       "  ancestor.treedata   tidytree\n",
       "  child.phylo         tidytree\n",
       "  child.treedata      tidytree\n",
       "  full_join.phylo     tidytree\n",
       "  full_join.treedata  tidytree\n",
       "  groupClade.phylo    tidytree\n",
       "  groupClade.treedata tidytree\n",
       "  groupOTU.phylo      tidytree\n",
       "  groupOTU.treedata   tidytree\n",
       "  is.rooted.treedata  tidytree\n",
       "  nodeid.phylo        tidytree\n",
       "  nodeid.treedata     tidytree\n",
       "  nodelab.phylo       tidytree\n",
       "  nodelab.treedata    tidytree\n",
       "  offspring.phylo     tidytree\n",
       "  offspring.treedata  tidytree\n",
       "  parent.phylo        tidytree\n",
       "  parent.treedata     tidytree\n",
       "  root.treedata       tidytree\n",
       "  rootnode.phylo      tidytree\n",
       "  sibling.phylo       tidytree\n",
       "ggtree v3.6.2 For help: https://yulab-smu.top/treedata-book/\n",
       "\n",
       "If you use the ggtree package suite in published research, please cite\n",
       "the appropriate paper(s):\n",
       "\n",
       "Guangchuang Yu, David Smith, Huachen Zhu, Yi Guan, Tommy Tsan-Yuk Lam.\n",
       "ggtree: an R package for visualization and annotation of phylogenetic\n",
       "trees with their covariates and other associated data. Methods in\n",
       "Ecology and Evolution. 2017, 8(1):28-36. doi:10.1111/2041-210X.12628\n",
       "\n",
       "Guangchuang Yu, Tommy Tsan-Yuk Lam, Huachen Zhu, Yi Guan. Two methods\n",
       "for mapping and visualizing associated data on phylogeny using ggtree.\n",
       "Molecular Biology and Evolution. 2018, 35(12):3041-3043.\n",
       "doi:10.1093/molbev/msy194\n",
       "\n",
       "S Xu, Z Dai, P Guo, X Fu, S Liu, L Zhou, W Tang, T Feng, M Chen, L\n",
       "Zhan, T Wu, E Hu, Y Jiang, X Bo, G Yu. ggtreeExtra: Compact\n",
       "visualization of richly annotated phylogenetic data. Molecular Biology\n",
       "and Evolution. 2021, 38(9):4039-4042. doi: 10.1093/molbev/msab166\n",
       "\n",
       "Attaching package: ‘ggtree’\n",
       "\n",
       "The following object is masked from ‘package:tidyr’:\n",
       "\n",
       "    expand\n",
       "\n",
       "\n",
       "Attaching package: ‘ggstance’\n",
       "\n",
       "The following objects are masked from ‘package:ggplot2’:\n",
       "\n",
       "    geom_errorbarh, GeomErrorbarh\n",
       "\n",
       "Loading required package: sysfonts\n",
       "Loading required package: showtextdb\n"
      ]
     },
     "metadata": {},
     "output_type": "display_data"
    }
   ],
   "source": [
    "%%R\n",
    "library(tidyverse)\n",
    "library(ggtree)\n",
    "library(ggstance)\n",
    "library(Cairo)\n",
    "library(showtext)\n",
    "library(stringr)\n"
   ]
  },
  {
   "cell_type": "code",
   "execution_count": 3,
   "metadata": {
    "pycharm": {
     "name": "#%%\n"
    }
   },
   "outputs": [
    {
     "name": "stdout",
     "output_type": "stream",
     "text": [
      "Rows: 8287 Columns: 6\n",
      "── Column specification ────────────────────────────────────────────────────────\n",
      "Delimiter: \",\"\n",
      "chr (4): accession, ncbi_organism_name, ncbi_taxonomy, gtdb_taxonomy\n",
      "lgl (2): gtdb_species_representative, ncbi_type_material\n",
      "\n",
      "ℹ Use `spec()` to retrieve the full column specification for this data.\n",
      "ℹ Specify the column types or set `show_col_types = FALSE` to quiet this message.\n"
     ]
    }
   ],
   "source": [
    "%%R\n",
    "genome_data <- read_csv(\"data/Enterobacteriaciae_species_merged_1000.csv\")\n",
    "\n",
    "# head(genome_data)\n"
   ]
  },
  {
   "cell_type": "code",
   "execution_count": 4,
   "metadata": {},
   "outputs": [
    {
     "name": "stdout",
     "output_type": "stream",
     "text": [
      "Rows: 7981 Columns: 1\n",
      "── Column specification ────────────────────────────────────────────────────────\n",
      "Delimiter: \",\"\n",
      "chr (1): X1\n",
      "\n",
      "ℹ Use `spec()` to retrieve the full column specification for this data.\n",
      "ℹ Specify the column types or set `show_col_types = FALSE` to quiet this message.\n",
      "[1] 1\n"
     ]
    }
   ],
   "source": [
    "%%R\n",
    "genomes_downloaded <- read_csv(\"data/downloaded_genomes_list.txt\", col_names = FALSE)\n",
    "length(genomes_downloaded)\n",
    "\n",
    "# head(genomes_downloaded)\n"
   ]
  },
  {
   "cell_type": "code",
   "execution_count": 5,
   "metadata": {},
   "outputs": [
    {
     "name": "stdout",
     "output_type": "stream",
     "text": [
      "[1] 7981\n"
     ]
    }
   ],
   "source": [
    "%%R\n",
    "#select genomes in the genomes_downloaded list\n",
    "genome_data <- genome_data[genome_data$accession %in% genomes_downloaded$X1,]\n",
    "length(genome_data$accession)\n"
   ]
  },
  {
   "cell_type": "code",
   "execution_count": 6,
   "metadata": {},
   "outputs": [],
   "source": [
    "# %%R\n",
    "# hmm_hits <- hmm_hits %>%\n",
    "# \tseparate(genome, c('db','bacteria','genome','contig'), sep = '/')\n",
    "# head(hmm_hits$genome)"
   ]
  },
  {
   "cell_type": "code",
   "execution_count": 7,
   "metadata": {},
   "outputs": [],
   "source": [
    "# %%R\n",
    "# head(genome_data$accession)"
   ]
  },
  {
   "cell_type": "code",
   "execution_count": 8,
   "metadata": {},
   "outputs": [],
   "source": [
    "# %%R\n",
    "# #save hmm_hits\n",
    "# write.csv(hmm_hits, \"data/20230608_40fullmic_hmm_hits.csv\", row.names = FALSE)"
   ]
  },
  {
   "cell_type": "code",
   "execution_count": 9,
   "metadata": {},
   "outputs": [],
   "source": [
    "# %%R\n",
    "# hmm_hits <- read.csv(\"data/20230622_cinful10_best_hits.csv\")\n",
    "\n",
    "# # head(hmm_hits)\n"
   ]
  },
  {
   "cell_type": "code",
   "execution_count": 10,
   "metadata": {},
   "outputs": [],
   "source": [
    "# %%R\n",
    "\n",
    "# # Make 'genome' column from 'sample' column, remove 'refseq/bacteria/' from the beginning of the string and after the next '/'\n",
    "# hmm_hits$genome <- gsub('refseq/bacteria/', '', hmm_hits$sample)\n",
    "# hmm_hits$genome <- gsub('/.*', '', hmm_hits$genome)\n",
    "\n",
    "# # head(hmm_hits, 6)\n"
   ]
  },
  {
   "cell_type": "code",
   "execution_count": 11,
   "metadata": {},
   "outputs": [],
   "source": [
    "# %%R\n",
    "\n",
    "# # Make new blank column in hmm_hits dataframe\n",
    "# hmm_hits$gtdb_taxonomy <- NA\n",
    "\n",
    "# # count rows from genome_data with no contig information\n",
    "# genome_data[is.na(genome_data$gtdb_taxonomy),]\n",
    "\n",
    "\n",
    "# # Match the first 13 characters of the contig column between hmm_hits and all_best_hits\n",
    "# # If there is a match, copy the gtdb_taxonomy from genome_data to hmm_hits\n",
    "# for (i in 1:nrow(hmm_hits)){\n",
    "#     for (j in 1:nrow(genome_data)){\n",
    "#         if (substr(hmm_hits$genome[i], 1, 13) == substr(genome_data$accession[j], 1, 13)){\n",
    "#             hmm_hits$gtdb_taxonomy[i] <- genome_data$gtdb_taxonomy[j]\n",
    "#         }\n",
    "#     }\n",
    "# }\n",
    "\n",
    "\n",
    "# # Print the updated dataframe\n",
    "# head(hmm_hits$gtdb_taxonomy)\n",
    "\n",
    "# save hmm_hits\n",
    "# write.csv(hmm_hits, \"data/20230622_cinful10_best_hits_35minute_timesave.csv\", row.names = FALSE)\n"
   ]
  },
  {
   "cell_type": "code",
   "execution_count": 12,
   "metadata": {},
   "outputs": [
    {
     "name": "stdout",
     "output_type": "stream",
     "text": [
      "Rows: 34337 Columns: 30\n",
      "── Column specification ────────────────────────────────────────────────────────\n",
      "Delimiter: \",\"\n",
      "chr (12): qseqid, sseqid, component, cinful_id, pephash, sample, contig, sta...\n",
      "dbl (14): pident, length, mismatch, gapopen, qstart, qend, sstart, send, eva...\n",
      "lgl  (4): hmmerHit, verified, allStandardAA, signalMatch\n",
      "\n",
      "ℹ Use `spec()` to retrieve the full column specification for this data.\n",
      "ℹ Specify the column types or set `show_col_types = FALSE` to quiet this message.\n"
     ]
    }
   ],
   "source": [
    "%%R\n",
    "#read in the saved file (for a timesave)\n",
    "hmm_hits <- read_csv(\"data/20230622_cinful10_best_hits_35minute_timesave.csv\")\n",
    "\n",
    "#head(hmm_hits$component)\n",
    "#head(hmm_hits$hmmerHit)"
   ]
  },
  {
   "cell_type": "code",
   "execution_count": 13,
   "metadata": {},
   "outputs": [
    {
     "name": "stdout",
     "output_type": "stream",
     "text": [
      "[1] 6427\n"
     ]
    }
   ],
   "source": [
    "%%R\n",
    "# keep hmm_hits where $component == 'microcins.verified' and $hmmerHit == 'True'\n",
    "hmm_hits <- hmm_hits[hmm_hits$component == 'microcins.verified' & hmm_hits$hmmerHit == 'TRUE',]\n",
    "# head(hmm_hits)\n",
    "\n",
    "# print number of rows\n",
    "nrow(hmm_hits)\n"
   ]
  },
  {
   "cell_type": "code",
   "execution_count": 14,
   "metadata": {
    "pycharm": {
     "name": "#%%\n"
    }
   },
   "outputs": [],
   "source": [
    "%%R\n",
    "Enterobacteriaciae_species_tree <- read.tree(\"data/Enterobacteriaciae_species.tree\")\n"
   ]
  },
  {
   "cell_type": "code",
   "execution_count": 15,
   "metadata": {
    "pycharm": {
     "name": "#%%\n"
    }
   },
   "outputs": [
    {
     "name": "stdout",
     "output_type": "stream",
     "text": [
      "[1] 7981\n"
     ]
    }
   ],
   "source": [
    "%%R\n",
    "samples <- read.csv(\"data/Enterobacteriaciae_accessions.csv\", header = TRUE)\n",
    "samples <- samples[samples$accession %in% genomes_downloaded$X1,]\n",
    "length(samples$accession)\n",
    "#head(samples)"
   ]
  },
  {
   "cell_type": "code",
   "execution_count": 16,
   "metadata": {
    "pycharm": {
     "name": "#%%\n"
    }
   },
   "outputs": [
    {
     "name": "stdout",
     "output_type": "stream",
     "text": [
      "                                   f8   n\n",
      "1                Actinomyces marmotae   5\n",
      "2           Anaerotruncus colihominis   1\n",
      "3             Atlantibacter hermannii  28\n",
      "4              Brachyspira pilosicoli   1\n",
      "5                Campylobacter_D coli  33\n",
      "6                 Citrobacter braakii 119\n",
      "7               Citrobacter werkmanii  65\n",
      "8                 Citrobacter youngae  40\n",
      "9          Citrobacter_A amalonaticus  57\n",
      "10       Citrobacter_A amalonaticus_C   1\n",
      "11       Citrobacter_A amalonaticus_E   2\n",
      "12               Citrobacter_B koseri 108\n",
      "13       Citrobacter_C amalonaticus_A   4\n",
      "14             Cronobacter condimenti   3\n",
      "15            Cronobacter dublinensis  42\n",
      "16            Cronobacter malonaticus  62\n",
      "17             Cronobacter muytjensii   8\n",
      "18              Cronobacter sakazakii 436\n",
      "19            Cronobacter universalis   4\n",
      "20              Enterobacter asburiae  32\n",
      "21            Enterobacter asburiae_A   6\n",
      "22            Enterobacter asburiae_B  68\n",
      "23            Enterobacter asburiae_C   1\n",
      "24          Enterobacter cancerogenus  16\n",
      "25               Enterobacter cloacae 126\n",
      "26             Enterobacter cloacae_I  11\n",
      "27             Enterobacter cloacae_L   5\n",
      "28             Enterobacter cloacae_M  84\n",
      "29             Enterobacter cloacae_N   4\n",
      "30             Enterobacter cloacae_O   6\n",
      "31             Enterobacter cloacae_P   2\n",
      "32             Enterobacter cloacae_Q   2\n",
      "33            Enterobacter hormaechei  12\n",
      "34          Enterobacter hormaechei_A 965\n",
      "35                 Enterobacter kobei 141\n",
      "36              Enterobacter ludwigii  85\n",
      "37                  Enterobacter mori  23\n",
      "38               Escherichia albertii 106\n",
      "39                   Escherichia coli 936\n",
      "40             Escherichia fergusonii  77\n",
      "41               Escherichia marmotae  82\n",
      "42            Helicobacter_C marmotae   2\n",
      "43               Klebsiella aerogenes 338\n",
      "44           Klebsiella michiganensis 268\n",
      "45         Klebsiella ornithinolytica  91\n",
      "46                 Klebsiella oxytoca 172\n",
      "47               Klebsiella oxytoca_C   1\n",
      "48              Klebsiella planticola  43\n",
      "49              Klebsiella pneumoniae 975\n",
      "50         Klebsiella quasipneumoniae 622\n",
      "51               Klebsiella variicola 517\n",
      "52                  Kosakonia cowanii  18\n",
      "53                   Kosakonia oryzae   3\n",
      "54            Kosakonia radicincitans  13\n",
      "55                 Kosakonia sacchari   5\n",
      "56               Kosakonia sacchari_B   2\n",
      "57           Leclercia adecarboxylata  78\n",
      "58         Leclercia adecarboxylata_A   2\n",
      "59         Leclercia adecarboxylata_B   2\n",
      "60         Leclercia adecarboxylata_C  13\n",
      "61                Lelliottia amnigena  15\n",
      "62              Lelliottia amnigena_A   1\n",
      "63         Lelliottia nimipressuralis   9\n",
      "64             Massilicoli timonensis   1\n",
      "65 Paenarthrobacter nitroguajacolicus   1\n",
      "66            Pluralibacter gergoviae  22\n",
      "67                 Salmonella bongori  32\n",
      "68                Salmonella enterica 915\n",
      "69             Streptococcus marmotae   1\n",
      "70      Terrisporobacter glycolicus_A   3\n",
      "71            Yersinia enterocolitica   6\n"
     ]
    },
    {
     "data": {
      "text/plain": [
       "In addition: Warning message:\n",
       "Expected 8 pieces. Missing pieces filled with `NA` in 1 rows [4957]. \n"
      ]
     },
     "metadata": {},
     "output_type": "display_data"
    }
   ],
   "source": [
    "%%R\n",
    "samples %>%\n",
    "\tseparate(gtdb_taxonomy, c('f1','f2','f3','f4','f5','f6','f7','f8'), sep = \"__\") %>%\n",
    "\tcount(f8) %>%\n",
    "\t#remove NA\n",
    "\tna.omit()"
   ]
  },
  {
   "cell_type": "code",
   "execution_count": 17,
   "metadata": {
    "pycharm": {
     "name": "#%%\n"
    }
   },
   "outputs": [
    {
     "data": {
      "text/plain": [
       "In addition: Warning message:\n",
       "Expected 8 pieces. Missing pieces filled with `NA` in 1 rows [4957]. \n"
      ]
     },
     "metadata": {},
     "output_type": "display_data"
    }
   ],
   "source": [
    "%%R -o speciesAssemblies\n",
    "\n",
    "speciesAssemblies <- samples %>%\n",
    "separate(gtdb_taxonomy, c('f1','f2','f3','f4','f5','f6','f7','f8'), sep = \"__\") %>%\n",
    "    mutate(f7 = gsub('_.','',f7)) %>%\n",
    "    mutate(f7 = gsub('; s','',f7)) %>%\n",
    "    mutate(f8 = gsub('_.','',f8)) %>%\n",
    "#\tfilter(f4 == \"Enterobacteriaceae_gtdb\") %>%\n",
    "#\tfilter(f5 != \"other_families\") %>%\n",
    "\tcount(f7,f8) %>%\n",
    "\trename(clade = f7, species = f8, assemblies = n)"
   ]
  },
  {
   "cell_type": "code",
   "execution_count": 18,
   "metadata": {
    "pycharm": {
     "name": "#%%\n"
    }
   },
   "outputs": [
    {
     "name": "stdout",
     "output_type": "stream",
     "text": [
      " [1] \"Klebsiella aerogenes\" \"Klebsiella aerogenes\" \"Klebsiella aerogenes\"\n",
      " [4] \"Klebsiella aerogenes\" \"Klebsiella aerogenes\" \"Klebsiella aerogenes\"\n",
      " [7] \"Klebsiella aerogenes\" \"Klebsiella aerogenes\" \"Klebsiella aerogenes\"\n",
      "[10] \"Klebsiella aerogenes\" \"Klebsiella aerogenes\" \"Klebsiella aerogenes\"\n",
      "[13] \"Klebsiella aerogenes\" \"Klebsiella aerogenes\" \"Klebsiella aerogenes\"\n",
      "[16] \"Klebsiella aerogenes\" \"Klebsiella aerogenes\" \"Klebsiella aerogenes\"\n",
      "[19] \"Klebsiella aerogenes\" \"Klebsiella aerogenes\"\n"
     ]
    }
   ],
   "source": [
    "%%R\n",
    "Enterobacteriaceae_best_hits <- hmm_hits %>%\n",
    "    separate(gtdb_taxonomy, c('f1','f2','f3','f4','f5','f6','f7','f8'), sep = \"__\") %>%\n",
    "    mutate(f7 = gsub('_.','',f7)) %>%\n",
    "    mutate(f7 = gsub('; s','',f7)) %>%\n",
    "    mutate(f8 = gsub('_.','',f8)) %>%\n",
    "    rename(clade = f7, species = f8)\n",
    "head(Enterobacteriaceae_best_hits$species, 20)"
   ]
  },
  {
   "cell_type": "code",
   "execution_count": 19,
   "metadata": {},
   "outputs": [
    {
     "name": "stdout",
     "output_type": "stream",
     "text": [
      "# A tibble: 33 × 2\n",
      "   species                   n_microcins\n",
      "   <chr>                           <int>\n",
      " 1 Citrobacter amalonaticus            4\n",
      " 2 Citrobacter braakii                 6\n",
      " 3 Citrobacter koseri                  2\n",
      " 4 Citrobacter werkmanii               3\n",
      " 5 Citrobacter youngae                 2\n",
      " 6 Cronobacter dublinensis             3\n",
      " 7 Cronobacter malonaticus             2\n",
      " 8 Cronobacter muytjensii              1\n",
      " 9 Enterobacter asburiae               6\n",
      "10 Enterobacter cancerogenus          15\n",
      "# ℹ 23 more rows\n",
      "# ℹ Use `print(n = ...)` to see more rows\n"
     ]
    }
   ],
   "source": [
    "%%R\n",
    "Enterobacteriaceae_best_hits %>%\n",
    "#    filter(component == \"microcins.verified\") %>%\n",
    "    count(species, name = \"n_microcins\", )\n"
   ]
  },
  {
   "cell_type": "code",
   "execution_count": 20,
   "metadata": {
    "pycharm": {
     "name": "#%%\n"
    }
   },
   "outputs": [
    {
     "name": "stdout",
     "output_type": "stream",
     "text": [
      "Joining with `by = join_by(species)`\n"
     ]
    }
   ],
   "source": [
    "%%R\n",
    "species_microcins <- Enterobacteriaceae_best_hits %>%\n",
    "#\tfilter(component == \"microcins.verified\") %>%\n",
    "\tcount(species, genome) %>% \n",
    "\tcount(species, name = \"n_microcins\") %>%\n",
    "\tfull_join(speciesAssemblies) %>%\n",
    "\tmutate(percent_microcin = n_microcins / assemblies) %>%\n",
    "    mutate(percent_microcin = gsub(\"NA\", \"0\", percent_microcin))\n",
    "\n",
    "# species_microcins"
   ]
  },
  {
   "cell_type": "code",
   "execution_count": 21,
   "metadata": {},
   "outputs": [],
   "source": [
    "%%R\n",
    "species_microcins <- species_microcins %>%\n",
    "    mutate(species = gsub('Klebsiella planticola','Raoultella planticola',species))%>%\n",
    "    mutate(species = gsub('Klebsiella ornithinolytica','Raoultella ornithinolytica',species))\n"
   ]
  },
  {
   "cell_type": "code",
   "execution_count": 22,
   "metadata": {},
   "outputs": [],
   "source": [
    "%%R\n",
    "Enterobacteriaciae_species_tree$tip.label <- sub(\"_\", \" \", Enterobacteriaciae_species_tree$tip.label)\n",
    "\n",
    "Enterobacteriaciae_species_tree$tip.label <- ifelse(\n",
    "  Enterobacteriaciae_species_tree$tip.label %in% species_microcins$species,\n",
    "  paste0(\n",
    "    Enterobacteriaciae_species_tree$tip.label,\n",
    "    \" (\",\n",
    "    species_microcins$assemblies[match(Enterobacteriaciae_species_tree$tip.label, species_microcins$species)],\n",
    "    \")\"\n",
    "  ),\n",
    "  Enterobacteriaciae_species_tree$tip.label\n",
    ")\n",
    "\n",
    "# Enterobacteriaciae_species_tree$tip.label\n"
   ]
  },
  {
   "cell_type": "code",
   "execution_count": 23,
   "metadata": {
    "pycharm": {
     "name": "#%%\n"
    }
   },
   "outputs": [],
   "source": [
    "%%R\n",
    "species_microcins$species <- gsub(\"_\",\" \",species_microcins$species)\n",
    "par(family  = \"Arial\")\n",
    "# plot(Enterobacteriaciae_species_tree)"
   ]
  },
  {
   "cell_type": "code",
   "execution_count": 24,
   "metadata": {
    "pycharm": {
     "name": "#%%\n"
    }
   },
   "outputs": [],
   "source": [
    "%%R -w 600\n",
    "species_tree_plot <- ggtree(Enterobacteriaciae_species_tree) +\n",
    "\tgeom_tiplab(as_ylab=FALSE, fontface=3, size=3)\n",
    "showtext_auto()\n",
    "# species_tree_plot"
   ]
  },
  {
   "cell_type": "code",
   "execution_count": 25,
   "metadata": {
    "pycharm": {
     "name": "#%%\n"
    }
   },
   "outputs": [],
   "source": [
    "%%R\n",
    "species_microcins$Clade <- factor(species_microcins$clade, levels = c(\"Escherichia\",\"Klebsiella\",\"Enterobacter\",\"Kosakonia\",\"Cronobacter\"))\n"
   ]
  },
  {
   "cell_type": "code",
   "execution_count": 26,
   "metadata": {
    "pycharm": {
     "name": "#%%\n"
    }
   },
   "outputs": [],
   "source": [
    "%%R\n",
    "species_microcins %>%\n",
    "\tfilter(!(species %in% Enterobacteriaciae_species_tree$tip.label))\n",
    "\n",
    "#add assemblies to species in species_microcins\n",
    "species_microcins$species <- paste0(species_microcins$species, \" (\", species_microcins$assemblies, \")\")\n",
    "\t\n",
    "#first word before space from species into clade\n",
    "species_microcins$Clade <- gsub(\" .*\",\"\",species_microcins$species)\n"
   ]
  },
  {
   "cell_type": "code",
   "execution_count": 27,
   "metadata": {},
   "outputs": [
    {
     "name": "stdout",
     "output_type": "stream",
     "text": [
      "# A tibble: 52 × 6\n",
      "   species                   n_microcins clade assemblies percent_microcin Clade\n",
      "   <chr>                           <int> <chr>      <int> <chr>            <chr>\n",
      " 1 Citrobacter amalonaticus…           4 Citr…         64 0.0625           Citr…\n",
      " 2 Citrobacter braakii (119)           6 Citr…        119 0.0504201680672… Citr…\n",
      " 3 Citrobacter koseri (108)            2 Citr…        108 0.0185185185185… Citr…\n",
      " 4 Citrobacter werkmanii (6…           3 Citr…         65 0.0461538461538… Citr…\n",
      " 5 Citrobacter youngae (40)            2 Citr…         40 0.05             Citr…\n",
      " 6 Cronobacter dublinensis …           3 Cron…         42 0.0714285714285… Cron…\n",
      " 7 Cronobacter malonaticus …           2 Cron…         62 0.0322580645161… Cron…\n",
      " 8 Cronobacter muytjensii (…           1 Cron…          8 0.125            Cron…\n",
      " 9 Enterobacter asburiae (1…           6 Ente…        107 0.0560747663551… Ente…\n",
      "10 Enterobacter cancerogenu…          14 Ente…         16 0.875            Ente…\n",
      "# ℹ 42 more rows\n",
      "# ℹ Use `print(n = ...)` to see more rows\n"
     ]
    }
   ],
   "source": [
    "%%R\n",
    "species_microcins"
   ]
  },
  {
   "cell_type": "code",
   "execution_count": 28,
   "metadata": {
    "pycharm": {
     "name": "#%%\n"
    }
   },
   "outputs": [
    {
     "name": "stdout",
     "output_type": "stream",
     "text": [
      "[1] 7981\n"
     ]
    }
   ],
   "source": [
    "%%R\n",
    "species_microcins_hmmer <- species_microcins %>%\n",
    "\tmutate(percent_microcin = n_microcins / assemblies) %>%\n",
    "    mutate(Clade = gsub('Citrobacter','Escherichia',Clade)) %>%\n",
    "    mutate(Clade = gsub('Salmonella','Escherichia',Clade)) %>%\n",
    "    mutate(Clade = gsub('Raoultella','Klebsiella',Clade)) %>%\n",
    "    mutate(Clade = gsub('Leclercia','Enterobacter',Clade)) %>%\n",
    "    mutate(Clade = gsub('Lelliottia','Enterobacter',Clade)) %>%\n",
    "    mutate(Clade = gsub('Atlantibacter','Cronobacter',Clade)) %>%\n",
    "    mutate(Clade = gsub('Pluralibacter','Klebsiella',Clade))\n",
    "\n",
    "species_microcins_hmmer$n_microcins[is.na(species_microcins_hmmer$n_microcins)] <- 0\n",
    "species_microcins_hmmer$percent_microcin[is.na(species_microcins_hmmer$percent_microcin)] <- 0\n",
    "\n",
    "#count all assemblies, join all\n",
    "sum(species_microcins_hmmer$assemblies)"
   ]
  },
  {
   "cell_type": "code",
   "execution_count": 29,
   "metadata": {
    "pycharm": {
     "name": "#%%\n"
    }
   },
   "outputs": [],
   "source": [
    "%%R\n",
    "species_microcins_hmmer$Clade <- factor(species_microcins_hmmer$Clade, levels = c(\"Escherichia\",\"Klebsiella\",\"Enterobacter\",\"Kosakonia\",\"Cronobacter\"))\n"
   ]
  },
  {
   "cell_type": "code",
   "execution_count": 31,
   "metadata": {
    "pycharm": {
     "name": "#%%\n"
    }
   },
   "outputs": [
    {
     "name": "stdout",
     "output_type": "stream",
     "text": [
      "ℹ invalid tbl_tree object. Missing column: parent,node.\n",
      "ℹ invalid tbl_tree object. Missing column: parent,node.\n",
      "Saving 6.94 x 6.67 in image\n"
     ]
    }
   ],
   "source": [
    "%%R -w 500\n",
    "\n",
    "species_tree_microcin_plot <- facet_plot(\n",
    "    species_tree_plot +\n",
    "        xlim(0, 100),\n",
    "        panel = \"percent microcin\",\n",
    "        data = species_microcins_hmmer,\n",
    "        geom = geom_barh,\n",
    "        mapping = aes(x = (percent_microcin)*100, fill = Clade),\n",
    "        stat=\"identity\"\n",
    "    ) +\n",
    "    scale_fill_manual(values=c(\n",
    "        \"#7397c7ff\", \n",
    "        \"#8fc960ff\", \n",
    "        \"#dfbf5dff\",\n",
    "        \"#cf6e6eff\",\n",
    "        \"#a674cbff\")) +\n",
    "    theme_tree2(\n",
    "        plot.margin = margin(0,0,0,0),\n",
    "        strip.background = element_blank(),\n",
    "        strip.text.x = element_blank(),\n",
    "        #text = element_text(size = 14)\n",
    "        legend.title = element_text(),\n",
    "        legend.text = element_text(face = 'italic')\n",
    "        ) +\n",
    "    xlab(\"Percent assemblies with microcins\")\n",
    "\n",
    "species_tree_microcin_plot\n",
    "\n",
    "# update plot file name and add current date from to file name\n",
    "filename = paste(\"plots/cinful_old_search.svg\")\n",
    "ggsave(filename)\n"
   ]
  }
 ],
 "metadata": {
  "interpreter": {
   "hash": "184da163bdcbc68ba00985bd6e7412525ff7507797be2878afd169be169c48f1"
  },
  "kernelspec": {
   "display_name": "Python 3 (ipykernel)",
   "language": "python",
   "name": "python3"
  },
  "language_info": {
   "codemirror_mode": {
    "name": "ipython",
    "version": 3
   },
   "file_extension": ".py",
   "mimetype": "text/x-python",
   "name": "python",
   "nbconvert_exporter": "python",
   "pygments_lexer": "ipython3",
   "version": "3.9.18"
  }
 },
 "nbformat": 4,
 "nbformat_minor": 2
}
