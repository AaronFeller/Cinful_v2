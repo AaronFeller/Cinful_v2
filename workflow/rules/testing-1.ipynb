{
 "cells": [
  {
   "cell_type": "code",
   "execution_count": 43,
   "metadata": {},
   "outputs": [
    {
     "name": "stdout",
     "output_type": "stream",
     "text": [
      "length of samples is 2\n",
      "i is 0\n",
      "count is -1\n",
      "sample is GCA_002554555.1_PDEG01.1\n",
      "0\n",
      "1\n",
      "2\n",
      "3\n",
      "4\n",
      "i is 1\n",
      "count is 4\n",
      "sample is GCA_002554555.1_PDEG01.1\n"
     ]
    },
    {
     "name": "stderr",
     "output_type": "stream",
     "text": [
      "/tmp/ipykernel_68158/1245304807.py:29: FutureWarning: The frame.append method is deprecated and will be removed from pandas in a future version. Use pandas.concat instead.\n",
      "  contig_to_genome_table = contig_to_genome_table.append(line)\n",
      "/tmp/ipykernel_68158/1245304807.py:29: FutureWarning: The frame.append method is deprecated and will be removed from pandas in a future version. Use pandas.concat instead.\n",
      "  contig_to_genome_table = contig_to_genome_table.append(line)\n",
      "/tmp/ipykernel_68158/1245304807.py:29: FutureWarning: The frame.append method is deprecated and will be removed from pandas in a future version. Use pandas.concat instead.\n",
      "  contig_to_genome_table = contig_to_genome_table.append(line)\n",
      "/tmp/ipykernel_68158/1245304807.py:29: FutureWarning: The frame.append method is deprecated and will be removed from pandas in a future version. Use pandas.concat instead.\n",
      "  contig_to_genome_table = contig_to_genome_table.append(line)\n",
      "/tmp/ipykernel_68158/1245304807.py:29: FutureWarning: The frame.append method is deprecated and will be removed from pandas in a future version. Use pandas.concat instead.\n",
      "  contig_to_genome_table = contig_to_genome_table.append(line)\n"
     ]
    },
    {
     "name": "stdout",
     "output_type": "stream",
     "text": [
      "5\n",
      "6\n",
      "7\n",
      "8\n",
      "9\n",
      "                     genome          contig\n",
      "0  GCA_002554555.1_PDEG01.1  PDEG01000001.1\n",
      "0  GCA_002554555.1_PDEG01.1  PDEG01000002.1\n",
      "0  GCA_002554555.1_PDEG01.1  PDEG01000003.1\n",
      "0  GCA_002554555.1_PDEG01.1  PDEG01000004.1\n",
      "0  GCA_002554555.1_PDEG01.1  PDEG01000005.1\n",
      "0  GCA_002554555.1_PDEG01.1  PDEG01000001.1\n",
      "0  GCA_002554555.1_PDEG01.1  PDEG01000002.1\n",
      "0  GCA_002554555.1_PDEG01.1  PDEG01000003.1\n",
      "0  GCA_002554555.1_PDEG01.1  PDEG01000004.1\n",
      "0  GCA_002554555.1_PDEG01.1  PDEG01000005.1\n"
     ]
    },
    {
     "name": "stderr",
     "output_type": "stream",
     "text": [
      "/tmp/ipykernel_68158/1245304807.py:29: FutureWarning: The frame.append method is deprecated and will be removed from pandas in a future version. Use pandas.concat instead.\n",
      "  contig_to_genome_table = contig_to_genome_table.append(line)\n",
      "/tmp/ipykernel_68158/1245304807.py:29: FutureWarning: The frame.append method is deprecated and will be removed from pandas in a future version. Use pandas.concat instead.\n",
      "  contig_to_genome_table = contig_to_genome_table.append(line)\n",
      "/tmp/ipykernel_68158/1245304807.py:29: FutureWarning: The frame.append method is deprecated and will be removed from pandas in a future version. Use pandas.concat instead.\n",
      "  contig_to_genome_table = contig_to_genome_table.append(line)\n",
      "/tmp/ipykernel_68158/1245304807.py:29: FutureWarning: The frame.append method is deprecated and will be removed from pandas in a future version. Use pandas.concat instead.\n",
      "  contig_to_genome_table = contig_to_genome_table.append(line)\n",
      "/tmp/ipykernel_68158/1245304807.py:29: FutureWarning: The frame.append method is deprecated and will be removed from pandas in a future version. Use pandas.concat instead.\n",
      "  contig_to_genome_table = contig_to_genome_table.append(line)\n"
     ]
    }
   ],
   "source": [
    "import pandas as pd\n",
    "\n",
    "#new shit\n",
    "SAMPLES = ['GCA_002554555.1_PDEG01.1', 'GCA_002554555.1_PDEG01.1']\n",
    "print('length of samples is ' + str(len(SAMPLES)))\n",
    "# Create empty DataFrame\n",
    "contig_to_genome_table = pd.DataFrame()\n",
    "subset_contig_to_genome = pd.DataFrame(columns=['genome', 'contig'])\n",
    "# Iterate through each sample\n",
    "count = -1\n",
    "for i in range(len(SAMPLES)):\n",
    "    print(\"i is \" + str(i))\n",
    "    print('count is ' + str(count))\n",
    "    # Assign sample to the current sample\n",
    "    sample = SAMPLES[i]\n",
    "\n",
    "    print(\"sample is \" + sample)\n",
    "    # Read ORF file and assign it to orfs_df\n",
    "    orfs_df = pd.read_csv(\"../../resources/test_genome/Test_read_files_may30/results/ORFs/\" + sample + \"_ORFs.csv\")\n",
    "#    print(orfs_df['sample'])\n",
    "    # Create a new column called 'sample' and assign it to the sample name\n",
    "    for j in range(len(orfs_df['sample'].unique())):\n",
    "        count += 1\n",
    "        print(count)\n",
    "        #make dataframe with two columns, \n",
    "        line = pd.DataFrame([[sample, orfs_df['sample'].unique()[j]]], columns=['genome', 'contig'])\n",
    "\n",
    "        # Append orfs_df to contig_to_genome_table\n",
    "        contig_to_genome_table = contig_to_genome_table.append(line)\n",
    "\n",
    "\n",
    "print(contig_to_genome_table)\n",
    "\n",
    "# # Write the final completed DataFrame to the output file\n",
    "# print(contig_to_genome_table)\n"
   ]
  },
  {
   "cell_type": "code",
   "execution_count": 47,
   "metadata": {},
   "outputs": [
    {
     "name": "stdout",
     "output_type": "stream",
     "text": [
      "Length of samples is 2\n",
      "                     genome          contig\n",
      "0  GCA_002554555.1_PDEG01.1  PDEG01000001.1\n",
      "1  GCA_002554555.1_PDEG01.1  PDEG01000002.1\n",
      "2  GCA_002554555.1_PDEG01.1  PDEG01000003.1\n",
      "3  GCA_002554555.1_PDEG01.1  PDEG01000004.1\n",
      "4  GCA_002554555.1_PDEG01.1  PDEG01000005.1\n",
      "5  GCA_002554555.1_PDEG01.1  PDEG01000001.1\n",
      "6  GCA_002554555.1_PDEG01.1  PDEG01000002.1\n",
      "7  GCA_002554555.1_PDEG01.1  PDEG01000003.1\n",
      "8  GCA_002554555.1_PDEG01.1  PDEG01000004.1\n",
      "9  GCA_002554555.1_PDEG01.1  PDEG01000005.1\n"
     ]
    }
   ],
   "source": [
    "import pandas as pd\n",
    "\n",
    "# New code\n",
    "SAMPLES = ['GCA_002554555.1_PDEG01.1', 'GCA_002554555.1_PDEG01.1']\n",
    "print('Length of samples is ' + str(len(SAMPLES)))\n",
    "\n",
    "# Create empty DataFrame\n",
    "contig_to_genome_table = pd.DataFrame()\n",
    "subset_contig_to_genome = pd.DataFrame(columns=['genome', 'contig'])\n",
    "\n",
    "# Iterate through each sample\n",
    "count = -1\n",
    "for i in range(len(SAMPLES)):    \n",
    "    # Assign sample to the current sample\n",
    "    sample = SAMPLES[i]\n",
    "    \n",
    "    # Read ORF file and assign it to orfs_df\n",
    "    orfs_df = pd.read_csv(\"../../resources/test_genome/Test_read_files_may30/results/ORFs/\" + sample + \"_ORFs.csv\")\n",
    "\n",
    "    # Create a new column called 'sample' and assign it to the sample name\n",
    "    for j in range(len(orfs_df['sample'].unique())):\n",
    "        count += 1\n",
    "        \n",
    "        # Make DataFrame with two columns\n",
    "        line = pd.DataFrame([[sample, orfs_df['sample'].unique()[j]]], columns=['genome', 'contig'])\n",
    "        \n",
    "        # Concatenate line with contig_to_genome_table\n",
    "        contig_to_genome_table = pd.concat([contig_to_genome_table, line], ignore_index=True)\n",
    "    \n",
    "\n",
    "# Write the final completed DataFrame to the output file\n",
    "print(contig_to_genome_table)"
   ]
  },
  {
   "cell_type": "code",
   "execution_count": 81,
   "metadata": {},
   "outputs": [
    {
     "name": "stdout",
     "output_type": "stream",
     "text": [
      "PDEG01000002.1\n",
      "0    False\n",
      "1     True\n",
      "2    False\n",
      "3    False\n",
      "4    False\n",
      "Name: contig, dtype: bool\n",
      "                     genome          contig\n",
      "1  GCA_002554555.1_PDEG01.1  PDEG01000002.1\n",
      "PDEG01000001.1\n",
      "0     True\n",
      "1    False\n",
      "2    False\n",
      "3    False\n",
      "4    False\n",
      "Name: contig, dtype: bool\n",
      "                     genome          contig\n",
      "0  GCA_002554555.1_PDEG01.1  PDEG01000001.1\n"
     ]
    }
   ],
   "source": [
    "# Load hits\n",
    "extracted_df = pd.read_csv('../../resources/test_genome/Test_read_files_may30/results/hmmsearch/extracted_hits.csv').rename(columns={'id': 'contig'})\n",
    "\n",
    "# Add blank columns\n",
    "added_columns = ['id', 'pephash', 'sample', 'start', 'stop', 'strand', 'dna', 'seq']\n",
    "for column in added_columns:\n",
    "    extracted_df[column] = ''\n",
    "\n",
    "contig_to_genome_table = pd.read_csv('../../resources/test_genome/Test_read_files_may30/results/ORFs/contig_to_genome_table.csv')\n",
    "\n",
    "# Iterate through each row of extracted_df\n",
    "for i in range(len(extracted_df)):\n",
    "    # Find the genome that the contig belongs to\n",
    "    print(extracted_df.loc[i, 'contig'].split('_')[0])\n",
    "    print(contig_to_genome_table['contig'] == extracted_df.loc[i, 'contig'].split('_')[0])\n",
    "    print(contig_to_genome_table[contig_to_genome_table['contig'] == extracted_df.loc[i, 'contig'].split('_')[0]])\n",
    "#     print(genome_row)\n",
    "# #    genome_row = contig_to_genome_table[contig_to_genome_table['contig'] == extracted_df.loc[i, 'contig']]\n",
    "#     if not genome_row.empty:\n",
    "#         genome = genome_row.iloc[0]['genome']\n",
    "\n",
    "#         # Generate the string for ORF file for the genome found\n",
    "#         orf_file = \"../../resources/test_genome/Test_read_files_may30/results/ORFs/\" + genome + \"_ORFs.csv\"\n",
    "\n",
    "#         # Read ORF file and assign it to orfs_df\n",
    "#         orfs_df = pd.read_csv(orf_file)\n",
    "#         # Find the row in orfs_df that matches the 'contig' (should be only 1)\n",
    "#         matching_row = orfs_df[orfs_df['contig'] == extracted_df.loc[i, 'contig']]\n",
    "#         # Add values from columns to extracted_df\n",
    "#         for column in added_columns:\n",
    "#             extracted_df.loc[i, column] = matching_row.loc[0,column]\n",
    "\n",
    "# # Write the final completed DataFrame to the output file\n",
    "# print(extracted_df)"
   ]
  }
 ],
 "metadata": {
  "kernelspec": {
   "display_name": "base",
   "language": "python",
   "name": "python3"
  },
  "language_info": {
   "codemirror_mode": {
    "name": "ipython",
    "version": 3
   },
   "file_extension": ".py",
   "mimetype": "text/x-python",
   "name": "python",
   "nbconvert_exporter": "python",
   "pygments_lexer": "ipython3",
   "version": "3.9.15"
  },
  "orig_nbformat": 4
 },
 "nbformat": 4,
 "nbformat_minor": 2
}
